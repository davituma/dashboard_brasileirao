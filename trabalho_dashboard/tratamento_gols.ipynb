{
 "cells": [
  {
   "cell_type": "code",
   "execution_count": 3,
   "id": "b5b95492",
   "metadata": {},
   "outputs": [],
   "source": [
    "import pandas as pd\n",
    "import matplotlib.pyplot as plt\n",
    "import seaborn as sns"
   ]
  },
  {
   "cell_type": "markdown",
   "id": "67de9a38",
   "metadata": {},
   "source": [
    "grafico mostrar quais posições recebem mais cartoes e tipo grafico radar"
   ]
  },
  {
   "cell_type": "code",
   "execution_count": 25,
   "id": "c756feac",
   "metadata": {},
   "outputs": [
    {
     "data": {
      "text/html": [
       "<div>\n",
       "<style scoped>\n",
       "    .dataframe tbody tr th:only-of-type {\n",
       "        vertical-align: middle;\n",
       "    }\n",
       "\n",
       "    .dataframe tbody tr th {\n",
       "        vertical-align: top;\n",
       "    }\n",
       "\n",
       "    .dataframe thead th {\n",
       "        text-align: right;\n",
       "    }\n",
       "</style>\n",
       "<table border=\"1\" class=\"dataframe\">\n",
       "  <thead>\n",
       "    <tr style=\"text-align: right;\">\n",
       "      <th></th>\n",
       "      <th>partida_id</th>\n",
       "      <th>rodata</th>\n",
       "      <th>clube</th>\n",
       "      <th>cartao</th>\n",
       "      <th>atleta</th>\n",
       "      <th>num_camisa</th>\n",
       "      <th>posicao</th>\n",
       "      <th>minuto</th>\n",
       "    </tr>\n",
       "  </thead>\n",
       "  <tbody>\n",
       "    <tr>\n",
       "      <th>20948</th>\n",
       "      <td>8785</td>\n",
       "      <td>38</td>\n",
       "      <td>Corinthians</td>\n",
       "      <td>Amarelo</td>\n",
       "      <td>André Carrillo</td>\n",
       "      <td>19.0</td>\n",
       "      <td>Meio-campo</td>\n",
       "      <td>54</td>\n",
       "    </tr>\n",
       "    <tr>\n",
       "      <th>20949</th>\n",
       "      <td>8785</td>\n",
       "      <td>38</td>\n",
       "      <td>Corinthians</td>\n",
       "      <td>Vermelho</td>\n",
       "      <td>José Andrés Martínez</td>\n",
       "      <td>70.0</td>\n",
       "      <td>Meio-campo</td>\n",
       "      <td>79</td>\n",
       "    </tr>\n",
       "    <tr>\n",
       "      <th>20950</th>\n",
       "      <td>8785</td>\n",
       "      <td>38</td>\n",
       "      <td>Gremio</td>\n",
       "      <td>Amarelo</td>\n",
       "      <td>Reinaldo Manoel da Silva</td>\n",
       "      <td>6.0</td>\n",
       "      <td>Zagueiro</td>\n",
       "      <td>25</td>\n",
       "    </tr>\n",
       "    <tr>\n",
       "      <th>20951</th>\n",
       "      <td>8785</td>\n",
       "      <td>38</td>\n",
       "      <td>Corinthians</td>\n",
       "      <td>Amarelo</td>\n",
       "      <td>Hugo Souza</td>\n",
       "      <td>1.0</td>\n",
       "      <td>Goleiro</td>\n",
       "      <td>64</td>\n",
       "    </tr>\n",
       "    <tr>\n",
       "      <th>20952</th>\n",
       "      <td>8785</td>\n",
       "      <td>38</td>\n",
       "      <td>Gremio</td>\n",
       "      <td>Vermelho</td>\n",
       "      <td>Douglas Moreira</td>\n",
       "      <td>17.0</td>\n",
       "      <td>Meio-campo</td>\n",
       "      <td>79</td>\n",
       "    </tr>\n",
       "  </tbody>\n",
       "</table>\n",
       "</div>"
      ],
      "text/plain": [
       "       partida_id  rodata        clube    cartao                    atleta  \\\n",
       "20948        8785      38  Corinthians   Amarelo            André Carrillo   \n",
       "20949        8785      38  Corinthians  Vermelho      José Andrés Martínez   \n",
       "20950        8785      38       Gremio   Amarelo  Reinaldo Manoel da Silva   \n",
       "20951        8785      38  Corinthians   Amarelo                Hugo Souza   \n",
       "20952        8785      38       Gremio  Vermelho           Douglas Moreira   \n",
       "\n",
       "       num_camisa     posicao minuto  \n",
       "20948        19.0  Meio-campo     54  \n",
       "20949        70.0  Meio-campo     79  \n",
       "20950         6.0    Zagueiro     25  \n",
       "20951         1.0     Goleiro     64  \n",
       "20952        17.0  Meio-campo     79  "
      ]
     },
     "execution_count": 25,
     "metadata": {},
     "output_type": "execute_result"
    }
   ],
   "source": [
    "df_cartoes = pd.read_csv('campeonato-brasileiro-cartoes.csv')\n",
    "\n",
    "df_cartoes.tail()"
   ]
  },
  {
   "cell_type": "code",
   "execution_count": 7,
   "id": "2ed9a3c8",
   "metadata": {},
   "outputs": [
    {
     "data": {
      "text/html": [
       "<div>\n",
       "<style scoped>\n",
       "    .dataframe tbody tr th:only-of-type {\n",
       "        vertical-align: middle;\n",
       "    }\n",
       "\n",
       "    .dataframe tbody tr th {\n",
       "        vertical-align: top;\n",
       "    }\n",
       "\n",
       "    .dataframe thead th {\n",
       "        text-align: right;\n",
       "    }\n",
       "</style>\n",
       "<table border=\"1\" class=\"dataframe\">\n",
       "  <thead>\n",
       "    <tr style=\"text-align: right;\">\n",
       "      <th></th>\n",
       "      <th>partida_id</th>\n",
       "      <th>rodata</th>\n",
       "      <th>clube</th>\n",
       "      <th>atleta</th>\n",
       "      <th>minuto</th>\n",
       "      <th>tipo_de_gol</th>\n",
       "    </tr>\n",
       "  </thead>\n",
       "  <tbody>\n",
       "    <tr>\n",
       "      <th>0</th>\n",
       "      <td>4607</td>\n",
       "      <td>1</td>\n",
       "      <td>Fluminense</td>\n",
       "      <td>Rafael Sóbis</td>\n",
       "      <td>31</td>\n",
       "      <td>NaN</td>\n",
       "    </tr>\n",
       "    <tr>\n",
       "      <th>1</th>\n",
       "      <td>4607</td>\n",
       "      <td>1</td>\n",
       "      <td>Fluminense</td>\n",
       "      <td>Nirley da Silva Fonseca</td>\n",
       "      <td>59</td>\n",
       "      <td>Gol Contra</td>\n",
       "    </tr>\n",
       "    <tr>\n",
       "      <th>2</th>\n",
       "      <td>4607</td>\n",
       "      <td>1</td>\n",
       "      <td>Fluminense</td>\n",
       "      <td>Fred</td>\n",
       "      <td>45</td>\n",
       "      <td>Penalty</td>\n",
       "    </tr>\n",
       "    <tr>\n",
       "      <th>3</th>\n",
       "      <td>4608</td>\n",
       "      <td>1</td>\n",
       "      <td>Internacional</td>\n",
       "      <td>Charles Aránguiz</td>\n",
       "      <td>6</td>\n",
       "      <td>NaN</td>\n",
       "    </tr>\n",
       "    <tr>\n",
       "      <th>4</th>\n",
       "      <td>4612</td>\n",
       "      <td>1</td>\n",
       "      <td>Cruzeiro</td>\n",
       "      <td>Nílton Ferreira Júnior</td>\n",
       "      <td>63</td>\n",
       "      <td>NaN</td>\n",
       "    </tr>\n",
       "  </tbody>\n",
       "</table>\n",
       "</div>"
      ],
      "text/plain": [
       "   partida_id  rodata          clube                   atleta minuto  \\\n",
       "0        4607       1     Fluminense             Rafael Sóbis     31   \n",
       "1        4607       1     Fluminense  Nirley da Silva Fonseca     59   \n",
       "2        4607       1     Fluminense                     Fred     45   \n",
       "3        4608       1  Internacional         Charles Aránguiz      6   \n",
       "4        4612       1       Cruzeiro   Nílton Ferreira Júnior     63   \n",
       "\n",
       "  tipo_de_gol  \n",
       "0         NaN  \n",
       "1  Gol Contra  \n",
       "2     Penalty  \n",
       "3         NaN  \n",
       "4         NaN  "
      ]
     },
     "execution_count": 7,
     "metadata": {},
     "output_type": "execute_result"
    }
   ],
   "source": [
    "df_gols = pd.read_csv('campeonato-brasileiro-gols.csv')\n",
    "df_gols.head()"
   ]
  },
  {
   "cell_type": "markdown",
   "id": "aa0df755",
   "metadata": {},
   "source": [
    "substituindo nan por gol normal"
   ]
  },
  {
   "cell_type": "code",
   "execution_count": null,
   "id": "2ca25419",
   "metadata": {},
   "outputs": [],
   "source": [
    "df_gols['tipo_de_gol'].fillna('Gol Normal', inplace=True)\n",
    "df_gols['tipo_de_gol'].unique()\n",
    "\n",
    "df_gols.to_csv('campeonato-brasileiro-gols-tratados.csv', index=False)"
   ]
  },
  {
   "cell_type": "code",
   "execution_count": 24,
   "id": "6c3d751f",
   "metadata": {},
   "outputs": [
    {
     "data": {
      "text/plain": [
       "array(['Gol Normal', 'Gol Contra', 'Penalty'], dtype=object)"
      ]
     },
     "execution_count": 24,
     "metadata": {},
     "output_type": "execute_result"
    }
   ],
   "source": [
    "df_gols['tipo_de_gol'].unique()"
   ]
  }
 ],
 "metadata": {
  "kernelspec": {
   "display_name": "estatistica",
   "language": "python",
   "name": "python3"
  },
  "language_info": {
   "codemirror_mode": {
    "name": "ipython",
    "version": 3
   },
   "file_extension": ".py",
   "mimetype": "text/x-python",
   "name": "python",
   "nbconvert_exporter": "python",
   "pygments_lexer": "ipython3",
   "version": "3.10.18"
  }
 },
 "nbformat": 4,
 "nbformat_minor": 5
}
