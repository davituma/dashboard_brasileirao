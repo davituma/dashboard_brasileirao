{
 "cells": [
  {
   "cell_type": "code",
   "execution_count": 123,
   "id": "7b85c946",
   "metadata": {},
   "outputs": [],
   "source": [
    "import pandas as pd\n",
    "import matplotlib.pyplot as plt\n",
    "import seaborn as sns\n",
    "import numpy as np"
   ]
  },
  {
   "cell_type": "code",
   "execution_count": 102,
   "id": "c648451b",
   "metadata": {},
   "outputs": [
    {
     "data": {
      "text/html": [
       "<div>\n",
       "<style scoped>\n",
       "    .dataframe tbody tr th:only-of-type {\n",
       "        vertical-align: middle;\n",
       "    }\n",
       "\n",
       "    .dataframe tbody tr th {\n",
       "        vertical-align: top;\n",
       "    }\n",
       "\n",
       "    .dataframe thead th {\n",
       "        text-align: right;\n",
       "    }\n",
       "</style>\n",
       "<table border=\"1\" class=\"dataframe\">\n",
       "  <thead>\n",
       "    <tr style=\"text-align: right;\">\n",
       "      <th></th>\n",
       "      <th>RoundID</th>\n",
       "      <th>MatchID</th>\n",
       "      <th>Team Initials</th>\n",
       "      <th>Coach Name</th>\n",
       "      <th>Line-up</th>\n",
       "      <th>Shirt Number</th>\n",
       "      <th>Player Name</th>\n",
       "      <th>Position</th>\n",
       "      <th>Event</th>\n",
       "    </tr>\n",
       "  </thead>\n",
       "  <tbody>\n",
       "    <tr>\n",
       "      <th>37779</th>\n",
       "      <td>255959</td>\n",
       "      <td>300186501</td>\n",
       "      <td>ARG</td>\n",
       "      <td>SABELLA Alejandro (ARG)</td>\n",
       "      <td>N</td>\n",
       "      <td>19</td>\n",
       "      <td>ALVAREZ</td>\n",
       "      <td>NaN</td>\n",
       "      <td>NaN</td>\n",
       "    </tr>\n",
       "    <tr>\n",
       "      <th>37780</th>\n",
       "      <td>255959</td>\n",
       "      <td>300186501</td>\n",
       "      <td>GER</td>\n",
       "      <td>LOEW Joachim (GER)</td>\n",
       "      <td>N</td>\n",
       "      <td>6</td>\n",
       "      <td>KHEDIRA</td>\n",
       "      <td>NaN</td>\n",
       "      <td>NaN</td>\n",
       "    </tr>\n",
       "    <tr>\n",
       "      <th>37781</th>\n",
       "      <td>255959</td>\n",
       "      <td>300186501</td>\n",
       "      <td>ARG</td>\n",
       "      <td>SABELLA Alejandro (ARG)</td>\n",
       "      <td>N</td>\n",
       "      <td>20</td>\n",
       "      <td>AGUERO</td>\n",
       "      <td>NaN</td>\n",
       "      <td>IH46' Y65'</td>\n",
       "    </tr>\n",
       "    <tr>\n",
       "      <th>37782</th>\n",
       "      <td>255959</td>\n",
       "      <td>300186501</td>\n",
       "      <td>GER</td>\n",
       "      <td>LOEW Joachim (GER)</td>\n",
       "      <td>N</td>\n",
       "      <td>21</td>\n",
       "      <td>MUSTAFI</td>\n",
       "      <td>NaN</td>\n",
       "      <td>NaN</td>\n",
       "    </tr>\n",
       "    <tr>\n",
       "      <th>37783</th>\n",
       "      <td>255959</td>\n",
       "      <td>300186501</td>\n",
       "      <td>ARG</td>\n",
       "      <td>SABELLA Alejandro (ARG)</td>\n",
       "      <td>N</td>\n",
       "      <td>23</td>\n",
       "      <td>BASANTA</td>\n",
       "      <td>NaN</td>\n",
       "      <td>NaN</td>\n",
       "    </tr>\n",
       "  </tbody>\n",
       "</table>\n",
       "</div>"
      ],
      "text/plain": [
       "       RoundID    MatchID Team Initials               Coach Name Line-up  \\\n",
       "37779   255959  300186501           ARG  SABELLA Alejandro (ARG)       N   \n",
       "37780   255959  300186501           GER       LOEW Joachim (GER)       N   \n",
       "37781   255959  300186501           ARG  SABELLA Alejandro (ARG)       N   \n",
       "37782   255959  300186501           GER       LOEW Joachim (GER)       N   \n",
       "37783   255959  300186501           ARG  SABELLA Alejandro (ARG)       N   \n",
       "\n",
       "       Shirt Number Player Name Position       Event  \n",
       "37779            19     ALVAREZ      NaN         NaN  \n",
       "37780             6     KHEDIRA      NaN         NaN  \n",
       "37781            20      AGUERO      NaN  IH46' Y65'  \n",
       "37782            21     MUSTAFI      NaN         NaN  \n",
       "37783            23     BASANTA      NaN         NaN  "
      ]
     },
     "execution_count": 102,
     "metadata": {},
     "output_type": "execute_result"
    }
   ],
   "source": [
    "df_players = pd.read_csv('WorldCupPlayers.csv')\n",
    "df_players.tail()"
   ]
  },
  {
   "cell_type": "code",
   "execution_count": 120,
   "id": "d69aec5c",
   "metadata": {},
   "outputs": [],
   "source": [
    "# --- 3. LIMPEZA GERAL DE LINHAS E COLUNAS ---\n",
    "    # Remover linhas duplicadas\n",
    "df_players.drop_duplicates(inplace=True)\n",
    "    # Remover linhas onde o nome do jogador é nulo\n",
    "df_players.dropna(subset=['Player Name'], inplace=True)"
   ]
  },
  {
   "cell_type": "code",
   "execution_count": 121,
   "id": "73c82520",
   "metadata": {},
   "outputs": [
    {
     "name": "stderr",
     "output_type": "stream",
     "text": [
      "C:\\Users\\Davi\\AppData\\Local\\Temp\\ipykernel_24648\\1679881417.py:3: FutureWarning: A value is trying to be set on a copy of a DataFrame or Series through chained assignment using an inplace method.\n",
      "The behavior will change in pandas 3.0. This inplace method will never work because the intermediate object on which we are setting values always behaves as a copy.\n",
      "\n",
      "For example, when doing 'df[col].method(value, inplace=True)', try using 'df.method({col: value}, inplace=True)' or df[col] = df[col].method(value) instead, to perform the operation inplace on the original object.\n",
      "\n",
      "\n",
      "  df_players['Event'].fillna('No Event', inplace=True)\n"
     ]
    }
   ],
   "source": [
    " # --- 4. TRATAMENTO DA COLUNA 'Event' ---\n",
    "    # Preencher eventos nulos com 'No Event'\n",
    "df_players['Event'].fillna('No Event', inplace=True)\n",
    "    # Contar o número de gols (substring 'G') em cada evento\n",
    "df_players['GoalsScored'] = df_players['Event'].str.count('G')"
   ]
  },
  {
   "cell_type": "code",
   "execution_count": 124,
   "id": "9175c3ac",
   "metadata": {},
   "outputs": [],
   "source": [
    " # --- 5. TRATAMENTO DA COLUNA 'Position' ---\n",
    "    # Preencher posições nulas com uma string vazia para manipulação\n",
    "df_players['Position'].fillna('', inplace=True)\n",
    "    # Criar coluna booleana 'IsCaptain' se a posição contiver 'C'\n",
    "df_players['IsCaptain'] = df_players['Position'].str.contains('C')\n",
    "    # Criar coluna de posição simplificada: 'Goalkeeper' ou 'Line Player'\n",
    "df_players['PlayerPosition'] = np.where(\n",
    "        df_players['Position'].str.contains('GK'),\n",
    "        'Goalkeeper',\n",
    "        'Line Player'\n",
    "    )\n",
    "    # Agora podemos remover a coluna original 'Position' que não é mais necessária\n",
    "df_players.drop('Position', axis=1, inplace=True)"
   ]
  },
  {
   "cell_type": "markdown",
   "id": "5c387a18",
   "metadata": {},
   "source": [
    "S=Line-up, N=Substitute"
   ]
  },
  {
   "cell_type": "code",
   "execution_count": 127,
   "id": "b4ba9475",
   "metadata": {},
   "outputs": [
    {
     "name": "stdout",
     "output_type": "stream",
     "text": [
      "\n",
      "Tratamento completo! Amostra do DataFrame final:\n",
      "        RoundID    MatchID Team Initials                  Coach Name Line-up  \\\n",
      "10055       262       1955           AUS            RASIC Rale (YUG)       S   \n",
      "3870        212       1264           ENG   WINTERBOTTOM Walter (ENG)       S   \n",
      "18986       322        111           CMR  NEPOMNYASHCHI Valeri (RUS)       S   \n",
      "24269      1014       8766           MEX       LAPUENTE Manuel (MEX)       S   \n",
      "8529       3478       1633           ENG            RAMSEY Alf (ENG)       S   \n",
      "1701        206       1157           CUB            TAPIA Jose (CUB)       S   \n",
      "23466      1014       8747           NGA      MILUTINOVIC Bora (YUG)       N   \n",
      "32339    249722  300061475           DEN          OLSEN Morten (DEN)       N   \n",
      "30422  97410100   97410046           KOR         Dick ADVOCAAT (NED)       N   \n",
      "34408    255931  300186513           ENG           HODGSON Roy (ENG)       N   \n",
      "\n",
      "       Shirt Number       Player Name     Event   Goal  Yellow Card  Red Card  \\\n",
      "10055             2  Doug UTJESENOVIC  No Event  False        False     False   \n",
      "3870              8      Ivor BROADIS  No Event  False        False     False   \n",
      "18986             6    Emmanuel KUNDE      O34'  False        False     False   \n",
      "24269             4             VILLA      Y18'  False         True     False   \n",
      "8529              5     Jack CHARLTON  No Event  False        False     False   \n",
      "1701              0    Manuel CHORENS  No Event  False        False     False   \n",
      "23466            21         OKPARA G.  No Event  False        False     False   \n",
      "32339             7            JENSEN     IH46'  False        False     False   \n",
      "30422            23            WONHEE  No Event  False        False     False   \n",
      "34408             8           LAMPARD  No Event  False        False     False   \n",
      "\n",
      "       GoalsScored  IsCaptain PlayerPosition  \n",
      "10055            0      False    Line Player  \n",
      "3870             0      False    Line Player  \n",
      "18986            0      False    Line Player  \n",
      "24269            0      False    Line Player  \n",
      "8529             0      False    Line Player  \n",
      "1701             0      False    Line Player  \n",
      "23466            0      False    Line Player  \n",
      "32339            0      False    Line Player  \n",
      "30422            0      False    Line Player  \n",
      "34408            0      False    Line Player  \n"
     ]
    }
   ],
   "source": [
    " # --- 6. VERIFICAÇÃO FINAL ---\n",
    "print(\"\\nTratamento completo! Amostra do DataFrame final:\")\n",
    "    # Mostrando as colunas mais importantes que criamos ou limpamos\n",
    "print(df_players.sample(10))"
   ]
  },
  {
   "cell_type": "code",
   "execution_count": 126,
   "id": "0cdee0dd",
   "metadata": {},
   "outputs": [
    {
     "name": "stdout",
     "output_type": "stream",
     "text": [
      "\n",
      "--- Maiores Artilheiros (Análise de Exemplo) ---\n",
      "Player Name\n",
      "RONALDO                               16\n",
      "KLOSE                                 16\n",
      "Just FONTAINE                         13\n",
      "Gerd MUELLER                          13\n",
      "PEL� (Edson Arantes do Nascimento)    12\n",
      "Name: GoalsScored, dtype: int64\n"
     ]
    }
   ],
   "source": [
    " # --- 7. (EXEMPLO DE USO) ANÁLISE DE ARTILHARIA ---\n",
    "player_stats = df_players.groupby('Player Name')['GoalsScored'].sum()\n",
    "top_scorers = player_stats.sort_values(ascending=False)\n",
    "print(\"\\n--- Maiores Artilheiros (Análise de Exemplo) ---\")\n",
    "print(top_scorers.head())"
   ]
  },
  {
   "cell_type": "code",
   "execution_count": 103,
   "id": "4d73a20b",
   "metadata": {},
   "outputs": [
    {
     "data": {
      "text/plain": [
       "Event\n",
       "OH46'              247\n",
       "IH46'              206\n",
       "Y1'                 87\n",
       "I77'                78\n",
       "I78'                78\n",
       "                  ... \n",
       "Y58' G59' G81'       1\n",
       "P4'                  1\n",
       "Y1' Y49' RSY49'      1\n",
       "G18' G84'            1\n",
       "G60' O83'            1\n",
       "Name: count, Length: 1893, dtype: int64"
      ]
     },
     "execution_count": 103,
     "metadata": {},
     "output_type": "execute_result"
    }
   ],
   "source": [
    "df_players['Event'].value_counts()"
   ]
  },
  {
   "cell_type": "markdown",
   "id": "bd78c95f",
   "metadata": {},
   "source": [
    "G=Goal, OG=Own Goal, Y=Yellow Card, R=Red Card, SY = Red Card by second yellow, P=Penalty, MP=Missed Penalty, I = Substitution In, O=Substitute Out"
   ]
  },
  {
   "cell_type": "code",
   "execution_count": 128,
   "id": "49d0a0c0",
   "metadata": {},
   "outputs": [],
   "source": [
    "df_players.to_csv('WorldCupPlayers_tratado.csv', index=False)"
   ]
  }
 ],
 "metadata": {
  "kernelspec": {
   "display_name": "base",
   "language": "python",
   "name": "python3"
  },
  "language_info": {
   "codemirror_mode": {
    "name": "ipython",
    "version": 3
   },
   "file_extension": ".py",
   "mimetype": "text/x-python",
   "name": "python",
   "nbconvert_exporter": "python",
   "pygments_lexer": "ipython3",
   "version": "3.12.7"
  }
 },
 "nbformat": 4,
 "nbformat_minor": 5
}
