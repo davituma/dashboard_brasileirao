{
 "cells": [
  {
   "cell_type": "code",
   "execution_count": 101,
   "id": "7b85c946",
   "metadata": {},
   "outputs": [],
   "source": [
    "import pandas as pd\n",
    "import matplotlib.pyplot as plt\n",
    "import seaborn as sns"
   ]
  },
  {
   "cell_type": "code",
   "execution_count": 102,
   "id": "c648451b",
   "metadata": {},
   "outputs": [
    {
     "data": {
      "text/html": [
       "<div>\n",
       "<style scoped>\n",
       "    .dataframe tbody tr th:only-of-type {\n",
       "        vertical-align: middle;\n",
       "    }\n",
       "\n",
       "    .dataframe tbody tr th {\n",
       "        vertical-align: top;\n",
       "    }\n",
       "\n",
       "    .dataframe thead th {\n",
       "        text-align: right;\n",
       "    }\n",
       "</style>\n",
       "<table border=\"1\" class=\"dataframe\">\n",
       "  <thead>\n",
       "    <tr style=\"text-align: right;\">\n",
       "      <th></th>\n",
       "      <th>RoundID</th>\n",
       "      <th>MatchID</th>\n",
       "      <th>Team Initials</th>\n",
       "      <th>Coach Name</th>\n",
       "      <th>Line-up</th>\n",
       "      <th>Shirt Number</th>\n",
       "      <th>Player Name</th>\n",
       "      <th>Position</th>\n",
       "      <th>Event</th>\n",
       "    </tr>\n",
       "  </thead>\n",
       "  <tbody>\n",
       "    <tr>\n",
       "      <th>37779</th>\n",
       "      <td>255959</td>\n",
       "      <td>300186501</td>\n",
       "      <td>ARG</td>\n",
       "      <td>SABELLA Alejandro (ARG)</td>\n",
       "      <td>N</td>\n",
       "      <td>19</td>\n",
       "      <td>ALVAREZ</td>\n",
       "      <td>NaN</td>\n",
       "      <td>NaN</td>\n",
       "    </tr>\n",
       "    <tr>\n",
       "      <th>37780</th>\n",
       "      <td>255959</td>\n",
       "      <td>300186501</td>\n",
       "      <td>GER</td>\n",
       "      <td>LOEW Joachim (GER)</td>\n",
       "      <td>N</td>\n",
       "      <td>6</td>\n",
       "      <td>KHEDIRA</td>\n",
       "      <td>NaN</td>\n",
       "      <td>NaN</td>\n",
       "    </tr>\n",
       "    <tr>\n",
       "      <th>37781</th>\n",
       "      <td>255959</td>\n",
       "      <td>300186501</td>\n",
       "      <td>ARG</td>\n",
       "      <td>SABELLA Alejandro (ARG)</td>\n",
       "      <td>N</td>\n",
       "      <td>20</td>\n",
       "      <td>AGUERO</td>\n",
       "      <td>NaN</td>\n",
       "      <td>IH46' Y65'</td>\n",
       "    </tr>\n",
       "    <tr>\n",
       "      <th>37782</th>\n",
       "      <td>255959</td>\n",
       "      <td>300186501</td>\n",
       "      <td>GER</td>\n",
       "      <td>LOEW Joachim (GER)</td>\n",
       "      <td>N</td>\n",
       "      <td>21</td>\n",
       "      <td>MUSTAFI</td>\n",
       "      <td>NaN</td>\n",
       "      <td>NaN</td>\n",
       "    </tr>\n",
       "    <tr>\n",
       "      <th>37783</th>\n",
       "      <td>255959</td>\n",
       "      <td>300186501</td>\n",
       "      <td>ARG</td>\n",
       "      <td>SABELLA Alejandro (ARG)</td>\n",
       "      <td>N</td>\n",
       "      <td>23</td>\n",
       "      <td>BASANTA</td>\n",
       "      <td>NaN</td>\n",
       "      <td>NaN</td>\n",
       "    </tr>\n",
       "  </tbody>\n",
       "</table>\n",
       "</div>"
      ],
      "text/plain": [
       "       RoundID    MatchID Team Initials               Coach Name Line-up  \\\n",
       "37779   255959  300186501           ARG  SABELLA Alejandro (ARG)       N   \n",
       "37780   255959  300186501           GER       LOEW Joachim (GER)       N   \n",
       "37781   255959  300186501           ARG  SABELLA Alejandro (ARG)       N   \n",
       "37782   255959  300186501           GER       LOEW Joachim (GER)       N   \n",
       "37783   255959  300186501           ARG  SABELLA Alejandro (ARG)       N   \n",
       "\n",
       "       Shirt Number Player Name Position       Event  \n",
       "37779            19     ALVAREZ      NaN         NaN  \n",
       "37780             6     KHEDIRA      NaN         NaN  \n",
       "37781            20      AGUERO      NaN  IH46' Y65'  \n",
       "37782            21     MUSTAFI      NaN         NaN  \n",
       "37783            23     BASANTA      NaN         NaN  "
      ]
     },
     "execution_count": 102,
     "metadata": {},
     "output_type": "execute_result"
    }
   ],
   "source": [
    "df_players = pd.read_csv('WorldCupPlayers.csv')\n",
    "df_players.tail()"
   ]
  },
  {
   "cell_type": "code",
   "execution_count": 103,
   "id": "4d73a20b",
   "metadata": {},
   "outputs": [
    {
     "data": {
      "text/plain": [
       "Event\n",
       "OH46'              247\n",
       "IH46'              206\n",
       "Y1'                 87\n",
       "I77'                78\n",
       "I78'                78\n",
       "                  ... \n",
       "Y58' G59' G81'       1\n",
       "P4'                  1\n",
       "Y1' Y49' RSY49'      1\n",
       "G18' G84'            1\n",
       "G60' O83'            1\n",
       "Name: count, Length: 1893, dtype: int64"
      ]
     },
     "execution_count": 103,
     "metadata": {},
     "output_type": "execute_result"
    }
   ],
   "source": [
    "df_players['Event'].value_counts()"
   ]
  },
  {
   "cell_type": "markdown",
   "id": "bd78c95f",
   "metadata": {},
   "source": [
    "G=Goal, OG=Own Goal, Y=Yellow Card, R=Red Card, SY = Red Card by second yellow, P=Penalty, MP=Missed Penalty, I = Substitution In, O=Substitute Out"
   ]
  },
  {
   "cell_type": "code",
   "execution_count": 104,
   "id": "904f834a",
   "metadata": {},
   "outputs": [
    {
     "data": {
      "text/plain": [
       "array(['GK', nan, 'C', 'GKC'], dtype=object)"
      ]
     },
     "execution_count": 104,
     "metadata": {},
     "output_type": "execute_result"
    }
   ],
   "source": [
    "df_players['Position'].unique()"
   ]
  },
  {
   "cell_type": "code",
   "execution_count": 105,
   "id": "d5a4f808",
   "metadata": {},
   "outputs": [
    {
     "name": "stdout",
     "output_type": "stream",
     "text": [
      "### Informações Originais de WorldCupPlayers.csv ###\n",
      "Número de linhas antes da limpeza: 37784\n",
      "RoundID              0\n",
      "MatchID              0\n",
      "Team Initials        0\n",
      "Coach Name           0\n",
      "Line-up              0\n",
      "Shirt Number         0\n",
      "Player Name          0\n",
      "Position         33641\n",
      "Event            28715\n",
      "dtype: int64\n"
     ]
    }
   ],
   "source": [
    "print(\"### Informações Originais de WorldCupPlayers.csv ###\")\n",
    "print(f\"Número de linhas antes da limpeza: {len(df_players)}\")\n",
    "print(df_players.isnull().sum())"
   ]
  },
  {
   "cell_type": "code",
   "execution_count": 106,
   "id": "9441f2f9",
   "metadata": {},
   "outputs": [],
   "source": [
    "# 2. Remover linhas onde o nome do jogador está faltando\n",
    "df_players.dropna(subset=['Player Name'], inplace=True)"
   ]
  },
  {
   "cell_type": "code",
   "execution_count": 107,
   "id": "671db868",
   "metadata": {},
   "outputs": [
    {
     "name": "stderr",
     "output_type": "stream",
     "text": [
      "C:\\Users\\Davi\\AppData\\Local\\Temp\\ipykernel_24648\\2371492196.py:3: FutureWarning: A value is trying to be set on a copy of a DataFrame or Series through chained assignment using an inplace method.\n",
      "The behavior will change in pandas 3.0. This inplace method will never work because the intermediate object on which we are setting values always behaves as a copy.\n",
      "\n",
      "For example, when doing 'df[col].method(value, inplace=True)', try using 'df.method({col: value}, inplace=True)' or df[col] = df[col].method(value) instead, to perform the operation inplace on the original object.\n",
      "\n",
      "\n",
      "  df_players['Event'].fillna('No Event', inplace=True)\n"
     ]
    }
   ],
   "source": [
    "# Preencher os valores NaN na coluna 'Event'\n",
    "#   Isso é crucial! Substituímos NaN por 'No Event' para maior clareza.\n",
    "df_players['Event'].fillna('No Event', inplace=True)"
   ]
  },
  {
   "cell_type": "code",
   "execution_count": 108,
   "id": "37a2d350",
   "metadata": {},
   "outputs": [
    {
     "name": "stdout",
     "output_type": "stream",
     "text": [
      "\n",
      "### Informações Após a Limpeza ###\n",
      "Número de linhas após a limpeza: 37784\n",
      "RoundID              0\n",
      "MatchID              0\n",
      "Team Initials        0\n",
      "Coach Name           0\n",
      "Line-up              0\n",
      "Shirt Number         0\n",
      "Player Name          0\n",
      "Position         33641\n",
      "Event                0\n",
      "dtype: int64\n",
      "\n",
      "Exemplo de eventos após preencher NaN:\n",
      "0     No Event\n",
      "1     No Event\n",
      "2         G40'\n",
      "3         G70'\n",
      "4     No Event\n",
      "5     No Event\n",
      "6    G43' G87'\n",
      "7     No Event\n",
      "8     No Event\n",
      "9     No Event\n",
      "Name: Event, dtype: object\n"
     ]
    }
   ],
   "source": [
    "print(\"\\n### Informações Após a Limpeza ###\")\n",
    "print(f\"Número de linhas após a limpeza: {len(df_players)}\")\n",
    "print(df_players.isnull().sum())\n",
    "print(\"\\nExemplo de eventos após preencher NaN:\")\n",
    "print(df_players['Event'].head(10))"
   ]
  },
  {
   "cell_type": "code",
   "execution_count": 109,
   "id": "002fa20f",
   "metadata": {},
   "outputs": [],
   "source": [
    "df_players['Goal'] = df_players['Event'].str.contains('G')\n",
    "df_players['Yellow Card'] = df_players['Event'].str.contains('Y')\n",
    "df_players['Red Card'] = df_players['Event'].str.contains('R')"
   ]
  },
  {
   "cell_type": "code",
   "execution_count": 110,
   "id": "d0ef5df8",
   "metadata": {},
   "outputs": [
    {
     "name": "stdout",
     "output_type": "stream",
     "text": [
      "\n",
      "### Tabela Enriquecida com Novas Colunas (Últimas Linhas) ###\n",
      "        Player Name       Event   Goal  Yellow Card  Red Card\n",
      "37774          DURM    No Event  False        False     False\n",
      "37775  F. FERNANDEZ    No Event  False        False     False\n",
      "37776   MERTESACKER       I120'  False        False     False\n",
      "37777       PALACIO        I78'  False        False     False\n",
      "37778         G�TZE  I88' G113'   True        False     False\n",
      "37779       ALVAREZ    No Event  False        False     False\n",
      "37780       KHEDIRA    No Event  False        False     False\n",
      "37781        AGUERO  IH46' Y65'  False         True     False\n",
      "37782       MUSTAFI    No Event  False        False     False\n",
      "37783       BASANTA    No Event  False        False     False\n"
     ]
    }
   ],
   "source": [
    "print(\"\\n### Tabela Enriquecida com Novas Colunas (Últimas Linhas) ###\")\n",
    "# Mostrando apenas as colunas relevantes para vermos o resultado\n",
    "print(df_players[['Player Name', 'Event', 'Goal', 'Yellow Card', 'Red Card']].tail(10))"
   ]
  }
 ],
 "metadata": {
  "kernelspec": {
   "display_name": "base",
   "language": "python",
   "name": "python3"
  },
  "language_info": {
   "codemirror_mode": {
    "name": "ipython",
    "version": 3
   },
   "file_extension": ".py",
   "mimetype": "text/x-python",
   "name": "python",
   "nbconvert_exporter": "python",
   "pygments_lexer": "ipython3",
   "version": "3.12.7"
  }
 },
 "nbformat": 4,
 "nbformat_minor": 5
}
